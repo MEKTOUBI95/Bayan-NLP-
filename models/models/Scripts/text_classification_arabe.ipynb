{
 "cells": [
  {
   "cell_type": "markdown",
   "metadata": {},
   "source": [
    "<h1><center>News Classification</center></h1>"
   ]
  },
  {
   "cell_type": "markdown",
   "metadata": {},
   "source": [
    "<h2>Load and Explore the Data</h2>"
   ]
  },
  {
   "cell_type": "code",
   "execution_count": 1,
   "metadata": {},
   "outputs": [],
   "source": [
    "import pandas as pd"
   ]
  },
  {
   "cell_type": "code",
   "execution_count": 2,
   "metadata": {},
   "outputs": [],
   "source": [
    "df =pd.read_csv('hyspress_dataset.csv',encoding ='utf-8')"
   ]
  },
  {
   "cell_type": "code",
   "execution_count": 3,
   "metadata": {},
   "outputs": [
    {
     "data": {
      "text/html": [
       "<div>\n",
       "<style scoped>\n",
       "    .dataframe tbody tr th:only-of-type {\n",
       "        vertical-align: middle;\n",
       "    }\n",
       "\n",
       "    .dataframe tbody tr th {\n",
       "        vertical-align: top;\n",
       "    }\n",
       "\n",
       "    .dataframe thead th {\n",
       "        text-align: right;\n",
       "    }\n",
       "</style>\n",
       "<table border=\"1\" class=\"dataframe\">\n",
       "  <thead>\n",
       "    <tr style=\"text-align: right;\">\n",
       "      <th></th>\n",
       "      <th>category</th>\n",
       "      <th>text</th>\n",
       "    </tr>\n",
       "  </thead>\n",
       "  <tbody>\n",
       "    <tr>\n",
       "      <th>0</th>\n",
       "      <td>sport</td>\n",
       "      <td>أوعنا بلعيد  ارتقى فريق المغرب الرياضي الفاسي ...</td>\n",
       "    </tr>\n",
       "    <tr>\n",
       "      <th>1</th>\n",
       "      <td>sport</td>\n",
       "      <td>هسبريس - أ.ف.ب  أتم ليفربول عاما كاملا من دون ...</td>\n",
       "    </tr>\n",
       "    <tr>\n",
       "      <th>2</th>\n",
       "      <td>sport</td>\n",
       "      <td>أوعنا بلعيد  تحدث الدنماركي لاسه شونه، لاعب جن...</td>\n",
       "    </tr>\n",
       "    <tr>\n",
       "      <th>3</th>\n",
       "      <td>sport</td>\n",
       "      <td>أوعنا بلعيد  يشعر المغربي كريم الأحمدي، لاعب ن...</td>\n",
       "    </tr>\n",
       "    <tr>\n",
       "      <th>4</th>\n",
       "      <td>sport</td>\n",
       "      <td>صالح الخزاعي من خريبكة  بعدما انتظر ممارسو \"ري...</td>\n",
       "    </tr>\n",
       "  </tbody>\n",
       "</table>\n",
       "</div>"
      ],
      "text/plain": [
       "  category                                               text\n",
       "0    sport  أوعنا بلعيد  ارتقى فريق المغرب الرياضي الفاسي ...\n",
       "1    sport  هسبريس - أ.ف.ب  أتم ليفربول عاما كاملا من دون ...\n",
       "2    sport  أوعنا بلعيد  تحدث الدنماركي لاسه شونه، لاعب جن...\n",
       "3    sport  أوعنا بلعيد  يشعر المغربي كريم الأحمدي، لاعب ن...\n",
       "4    sport  صالح الخزاعي من خريبكة  بعدما انتظر ممارسو \"ري..."
      ]
     },
     "execution_count": 3,
     "metadata": {},
     "output_type": "execute_result"
    }
   ],
   "source": [
    "df.head()"
   ]
  },
  {
   "cell_type": "code",
   "execution_count": 4,
   "metadata": {},
   "outputs": [],
   "source": [
    "df = df.rename(columns={'\\u200etext': 'text'})"
   ]
  },
  {
   "cell_type": "code",
   "execution_count": 5,
   "metadata": {},
   "outputs": [
    {
     "data": {
      "text/plain": [
       "0       أوعنا بلعيد  ارتقى فريق المغرب الرياضي الفاسي ...\n",
       "1       هسبريس - أ.ف.ب  أتم ليفربول عاما كاملا من دون ...\n",
       "2       أوعنا بلعيد  تحدث الدنماركي لاسه شونه، لاعب جن...\n",
       "3       أوعنا بلعيد  يشعر المغربي كريم الأحمدي، لاعب ن...\n",
       "4       صالح الخزاعي من خريبكة  بعدما انتظر ممارسو \"ري...\n",
       "                              ...                        \n",
       "3915    هسبريس من الرباط  صدر لحسن الوزاني، كاتب مغربي...\n",
       "3916    هسبريس من الرباط  انتخبت الجمعية العمومية لمرك...\n",
       "3917    هسبريس - وائل بورشاشن (صور: منير امحيمدات)  طو...\n",
       "3918    هسبريس - وائل بورشاشن  انطلَق \"مهرجان السينما ...\n",
       "3919    هسبريس - مصطفى شاكري (صور: محمد اكريمي)  انطلق...\n",
       "Name: text, Length: 3920, dtype: object"
      ]
     },
     "execution_count": 5,
     "metadata": {},
     "output_type": "execute_result"
    }
   ],
   "source": [
    "df[\"text\"]"
   ]
  },
  {
   "cell_type": "code",
   "execution_count": 6,
   "metadata": {},
   "outputs": [
    {
     "data": {
      "text/plain": [
       "0    0\n",
       "1    0\n",
       "2    0\n",
       "3    0\n",
       "4    0\n",
       "5    0\n",
       "6    0\n",
       "7    0\n",
       "8    0\n",
       "9    0\n",
       "Name: category_id, dtype: int64"
      ]
     },
     "execution_count": 6,
     "metadata": {},
     "output_type": "execute_result"
    }
   ],
   "source": [
    "df['category_id'] = df['category'].factorize()[0]\n",
    "df['category_id'][0:10]"
   ]
  },
  {
   "cell_type": "code",
   "execution_count": 7,
   "metadata": {},
   "outputs": [],
   "source": [
    "category_id_df = df[['category', 'category_id']].drop_duplicates().sort_values('category_id')"
   ]
  },
  {
   "cell_type": "code",
   "execution_count": 8,
   "metadata": {},
   "outputs": [
    {
     "data": {
      "text/html": [
       "<div>\n",
       "<style scoped>\n",
       "    .dataframe tbody tr th:only-of-type {\n",
       "        vertical-align: middle;\n",
       "    }\n",
       "\n",
       "    .dataframe tbody tr th {\n",
       "        vertical-align: top;\n",
       "    }\n",
       "\n",
       "    .dataframe thead th {\n",
       "        text-align: right;\n",
       "    }\n",
       "</style>\n",
       "<table border=\"1\" class=\"dataframe\">\n",
       "  <thead>\n",
       "    <tr style=\"text-align: right;\">\n",
       "      <th></th>\n",
       "      <th>category</th>\n",
       "      <th>category_id</th>\n",
       "    </tr>\n",
       "  </thead>\n",
       "  <tbody>\n",
       "    <tr>\n",
       "      <th>0</th>\n",
       "      <td>sport</td>\n",
       "      <td>0</td>\n",
       "    </tr>\n",
       "    <tr>\n",
       "      <th>980</th>\n",
       "      <td>politique</td>\n",
       "      <td>1</td>\n",
       "    </tr>\n",
       "    <tr>\n",
       "      <th>1960</th>\n",
       "      <td>economie</td>\n",
       "      <td>2</td>\n",
       "    </tr>\n",
       "    <tr>\n",
       "      <th>2940</th>\n",
       "      <td>art-et-culture</td>\n",
       "      <td>3</td>\n",
       "    </tr>\n",
       "  </tbody>\n",
       "</table>\n",
       "</div>"
      ],
      "text/plain": [
       "            category  category_id\n",
       "0              sport            0\n",
       "980        politique            1\n",
       "1960        economie            2\n",
       "2940  art-et-culture            3"
      ]
     },
     "execution_count": 8,
     "metadata": {},
     "output_type": "execute_result"
    }
   ],
   "source": [
    "category_id_df"
   ]
  },
  {
   "cell_type": "code",
   "execution_count": 9,
   "metadata": {},
   "outputs": [],
   "source": [
    "# Create a dictionary that can easily convert category names into category_ids and vice-versa\n",
    "category_to_id = dict(category_id_df.values)\n",
    "id_to_category = dict(category_id_df[['category_id', 'category']].values)"
   ]
  },
  {
   "cell_type": "code",
   "execution_count": 10,
   "metadata": {},
   "outputs": [
    {
     "data": {
      "text/plain": [
       "{'sport': 0, 'politique': 1, 'economie': 2, 'art-et-culture': 3}"
      ]
     },
     "execution_count": 10,
     "metadata": {},
     "output_type": "execute_result"
    }
   ],
   "source": [
    "category_to_id\n"
   ]
  },
  {
   "cell_type": "code",
   "execution_count": 11,
   "metadata": {},
   "outputs": [
    {
     "data": {
      "text/html": [
       "<div>\n",
       "<style scoped>\n",
       "    .dataframe tbody tr th:only-of-type {\n",
       "        vertical-align: middle;\n",
       "    }\n",
       "\n",
       "    .dataframe tbody tr th {\n",
       "        vertical-align: top;\n",
       "    }\n",
       "\n",
       "    .dataframe thead th {\n",
       "        text-align: right;\n",
       "    }\n",
       "</style>\n",
       "<table border=\"1\" class=\"dataframe\">\n",
       "  <thead>\n",
       "    <tr style=\"text-align: right;\">\n",
       "      <th></th>\n",
       "      <th>category</th>\n",
       "      <th>text</th>\n",
       "      <th>category_id</th>\n",
       "    </tr>\n",
       "  </thead>\n",
       "  <tbody>\n",
       "    <tr>\n",
       "      <th>538</th>\n",
       "      <td>sport</td>\n",
       "      <td>أوعنا بلعيد  تعتزم الكونفدرالية الإفريقية لكرة...</td>\n",
       "      <td>0</td>\n",
       "    </tr>\n",
       "    <tr>\n",
       "      <th>3000</th>\n",
       "      <td>art-et-culture</td>\n",
       "      <td>هسبريس من الرباط  وفق توزيع موسيقي جديد، قرر ا...</td>\n",
       "      <td>3</td>\n",
       "    </tr>\n",
       "    <tr>\n",
       "      <th>825</th>\n",
       "      <td>sport</td>\n",
       "      <td>أوعنا بلعيد  استقرت الجامعة الملكية المغربية ل...</td>\n",
       "      <td>0</td>\n",
       "    </tr>\n",
       "    <tr>\n",
       "      <th>924</th>\n",
       "      <td>sport</td>\n",
       "      <td>أوعنا بلعيد  يقترب مسؤولو فريق ديجون الفرنسي ل...</td>\n",
       "      <td>0</td>\n",
       "    </tr>\n",
       "    <tr>\n",
       "      <th>3093</th>\n",
       "      <td>art-et-culture</td>\n",
       "      <td>هسبريس من الرباط  أصدر الباحث أبوبكر أولياس مؤ...</td>\n",
       "      <td>3</td>\n",
       "    </tr>\n",
       "    <tr>\n",
       "      <th>3275</th>\n",
       "      <td>art-et-culture</td>\n",
       "      <td>جو جاكسون من لندن*  تعتبر المخبرة البريطانية ك...</td>\n",
       "      <td>3</td>\n",
       "    </tr>\n",
       "    <tr>\n",
       "      <th>3671</th>\n",
       "      <td>art-et-culture</td>\n",
       "      <td>هسبريس - د.ب.أ  توفي المخرج الإيطالي المشهور و...</td>\n",
       "      <td>3</td>\n",
       "    </tr>\n",
       "    <tr>\n",
       "      <th>3647</th>\n",
       "      <td>art-et-culture</td>\n",
       "      <td>هسبريس - وائل بورشاشن  صدَحَت قباقبُ وآلاتٌ وت...</td>\n",
       "      <td>3</td>\n",
       "    </tr>\n",
       "    <tr>\n",
       "      <th>1059</th>\n",
       "      <td>politique</td>\n",
       "      <td>هسبريس- عبد السلام الشامخ (صور: منير امحميدات)...</td>\n",
       "      <td>1</td>\n",
       "    </tr>\n",
       "    <tr>\n",
       "      <th>3227</th>\n",
       "      <td>art-et-culture</td>\n",
       "      <td>هسبريس - إفي  أصبح \"جوكر\" الفيلم الأعلى تحقيقا...</td>\n",
       "      <td>3</td>\n",
       "    </tr>\n",
       "  </tbody>\n",
       "</table>\n",
       "</div>"
      ],
      "text/plain": [
       "            category                                               text  \\\n",
       "538            sport  أوعنا بلعيد  تعتزم الكونفدرالية الإفريقية لكرة...   \n",
       "3000  art-et-culture  هسبريس من الرباط  وفق توزيع موسيقي جديد، قرر ا...   \n",
       "825            sport  أوعنا بلعيد  استقرت الجامعة الملكية المغربية ل...   \n",
       "924            sport  أوعنا بلعيد  يقترب مسؤولو فريق ديجون الفرنسي ل...   \n",
       "3093  art-et-culture  هسبريس من الرباط  أصدر الباحث أبوبكر أولياس مؤ...   \n",
       "3275  art-et-culture  جو جاكسون من لندن*  تعتبر المخبرة البريطانية ك...   \n",
       "3671  art-et-culture  هسبريس - د.ب.أ  توفي المخرج الإيطالي المشهور و...   \n",
       "3647  art-et-culture  هسبريس - وائل بورشاشن  صدَحَت قباقبُ وآلاتٌ وت...   \n",
       "1059       politique  هسبريس- عبد السلام الشامخ (صور: منير امحميدات)...   \n",
       "3227  art-et-culture  هسبريس - إفي  أصبح \"جوكر\" الفيلم الأعلى تحقيقا...   \n",
       "\n",
       "      category_id  \n",
       "538             0  \n",
       "3000            3  \n",
       "825             0  \n",
       "924             0  \n",
       "3093            3  \n",
       "3275            3  \n",
       "3671            3  \n",
       "3647            3  \n",
       "1059            1  \n",
       "3227            3  "
      ]
     },
     "execution_count": 11,
     "metadata": {},
     "output_type": "execute_result"
    }
   ],
   "source": [
    "df.sample(10, random_state=0)"
   ]
  },
  {
   "cell_type": "code",
   "execution_count": 12,
   "metadata": {},
   "outputs": [
    {
     "data": {
      "text/plain": [
       "category\n",
       "art-et-culture    980\n",
       "economie          980\n",
       "politique         980\n",
       "sport             980\n",
       "Name: category_id, dtype: int64"
      ]
     },
     "execution_count": 12,
     "metadata": {},
     "output_type": "execute_result"
    }
   ],
   "source": [
    "df.groupby('category').category_id.count()"
   ]
  },
  {
   "cell_type": "code",
   "execution_count": 13,
   "metadata": {},
   "outputs": [
    {
     "data": {
      "text/plain": [
       "<matplotlib.axes._subplots.AxesSubplot at 0x7ff19b329e48>"
      ]
     },
     "execution_count": 13,
     "metadata": {},
     "output_type": "execute_result"
    },
    {
     "data": {
      "image/png": "[encoded data removed]",
      "text/plain": [
       "<Figure size 432x288 with 1 Axes>"
      ]
     },
     "metadata": {
      "needs_background": "light"
     },
     "output_type": "display_data"
    }
   ],
   "source": [
    "df.groupby('category').category_id.count().plot.bar(ylim=0)"
   ]
  },
  {
   "cell_type": "markdown",
   "metadata": {},
   "source": [
    "<h2>Convert words in the news articles into numerical features using tfdif</h2>"
   ]
  },
  {
   "cell_type": "code",
   "execution_count": 14,
   "metadata": {},
   "outputs": [
    {
     "name": "stderr",
     "output_type": "stream",
     "text": [
      "/home/abdessamad/PycharmProjects/ai-text-classification/venv/lib/python3.6/site-packages/sklearn/feature_extraction/text.py:300: UserWarning: Your stop_words may be inconsistent with your preprocessing. Tokenizing the stop words generated tokens ['آمين', 'آها', 'أب', 'أخ', 'أف', 'أفعل', 'أفعله', 'ؤلاء', 'إل', 'إليك', 'إليكن', 'إم', 'إيه', 'ات', 'اتان', 'ارتد', 'انفك', 'بخ', 'برح', 'بس', 'تان', 'تبد', 'تحو', 'تعل', 'حد', 'حم', 'حي', 'خب', 'ذار', 'ذان', 'سيما', 'شتان', 'صه', 'ظن', 'عد', 'قط', 'كأي', 'مر', 'مكان', 'مكانكن', 'نب', 'هات', 'هاك', 'هب', 'واها', 'وراء'] not in stop_words.\n",
      "  'stop_words.' % sorted(inconsistent))\n"
     ]
    }
   ],
   "source": [
    "from sklearn.feature_extraction.text import TfidfVectorizer\n",
    "\n",
    "spw=[\"،\",\"ء\",\"ءَ\",\"آ\",\"آب\",\"آذار\",\"آض\",\"آل\",\"آمينَ\",\"آناء\",\"آنفا\",\"آه\",\"آهاً\",\"آهٍ\",\"آهِ\",\"أ\",\"أبدا\",\"أبريل\",\"أبو\",\"أبٌ\",\"أجل\",\"أجمع\",\"أحد\",\"أخبر\",\"أخذ\",\"أخو\",\"أخٌ\",\"أربع\",\"أربعاء\",\"أربعة\",\"أربعمئة\",\"أربعمائة\",\"أرى\",\"أسكن\",\"أصبح\",\"أصلا\",\"أضحى\",\"أطعم\",\"أعطى\",\"أعلم\",\"أغسطس\",\"أفريل\",\"أفعل به\",\"أفٍّ\",\"أقبل\",\"أكتوبر\",\"أل\",\"ألا\",\"ألف\",\"ألفى\",\"أم\",\"أما\",\"أمام\",\"أمامك\",\"أمامكَ\",\"أمد\",\"أمس\",\"أمسى\",\"أمّا\",\"أن\",\"أنا\",\"أنبأ\",\"أنت\",\"أنتم\",\"أنتما\",\"أنتن\",\"أنتِ\",\"أنشأ\",\"أنه\",\"أنًّ\",\"أنّى\",\"أهلا\",\"أو\",\"أوت\",\"أوشك\",\"أول\",\"أولئك\",\"أولاء\",\"أولالك\",\"أوّهْ\",\"أى\",\"أي\",\"أيا\",\"أيار\",\"أيضا\",\"أيلول\",\"أين\",\"أيّ\",\"أيّان\",\"أُفٍّ\",\"ؤ\",\"إحدى\",\"إذ\",\"إذا\",\"إذاً\",\"إذما\",\"إذن\",\"إزاء\",\"إلى\",\"إلي\",\"إليكم\",\"إليكما\",\"إليكنّ\",\"إليكَ\",\"إلَيْكَ\",\"إلّا\",\"إمّا\",\"إن\",\"إنَّ\",\"إى\",\"إياك\",\"إياكم\",\"إياكما\",\"إياكن\",\"إيانا\",\"إياه\",\"إياها\",\"إياهم\",\"إياهما\",\"إياهن\",\"إياي\",\"إيهٍ\",\"ئ\",\"ا\",\"ا?\",\"ا?ى\",\"االا\",\"االتى\",\"ابتدأ\",\"ابين\",\"اتخذ\",\"اثر\",\"اثنا\",\"اثنان\",\"اثني\",\"اثنين\",\"اجل\",\"احد\",\"اخرى\",\"اخلولق\",\"اذا\",\"اربعة\",\"اربعون\",\"اربعين\",\"ارتدّ\",\"استحال\",\"اصبح\",\"اضحى\",\"اطار\",\"اعادة\",\"اعلنت\",\"اف\",\"اكثر\",\"اكد\",\"الآن\",\"الألاء\",\"الألى\",\"الا\",\"الاخيرة\",\"الان\",\"الاول\",\"الاولى\",\"التى\",\"التي\",\"الثاني\",\"الثانية\",\"الحالي\",\"الذاتي\",\"الذى\",\"الذي\",\"الذين\",\"السابق\",\"الف\",\"اللاتي\",\"اللتان\",\"اللتيا\",\"اللتين\",\"اللذان\",\"اللذين\",\"اللواتي\",\"الماضي\",\"المقبل\",\"الوقت\",\"الى\",\"الي\",\"اليه\",\"اليها\",\"اليوم\",\"اما\",\"امام\",\"امس\",\"امسى\",\"ان\",\"انبرى\",\"انقلب\",\"انه\",\"انها\",\"او\",\"اول\",\"اي\",\"ايار\",\"ايام\",\"ايضا\",\"ب\",\"بؤسا\",\"بإن\",\"بئس\",\"باء\",\"بات\",\"باسم\",\"بان\",\"بخٍ\",\"بد\",\"بدلا\",\"برس\",\"بسبب\",\"بسّ\",\"بشكل\",\"بضع\",\"بطآن\",\"بعد\",\"بعدا\",\"بعض\",\"بغتة\",\"بل\",\"بلى\",\"بن\",\"به\",\"بها\",\"بهذا\",\"بيد\",\"بين\",\"بَسْ\",\"بَلْهَ\",\"ة\",\"ت\",\"تاء\",\"تارة\",\"تاسع\",\"تانِ\",\"تانِك\",\"تبدّل\",\"تجاه\",\"تحت\",\"تحوّل\",\"تخذ\",\"ترك\",\"تسع\",\"تسعة\",\"تسعمئة\",\"تسعمائة\",\"تسعون\",\"تسعين\",\"تشرين\",\"تعسا\",\"تعلَّم\",\"تفعلان\",\"تفعلون\",\"تفعلين\",\"تكون\",\"تلقاء\",\"تلك\",\"تم\",\"تموز\",\"تينك\",\"تَيْنِ\",\"تِه\",\"تِي\",\"ث\",\"ثاء\",\"ثالث\",\"ثامن\",\"ثان\",\"ثاني\",\"ثلاث\",\"ثلاثاء\",\"ثلاثة\",\"ثلاثمئة\",\"ثلاثمائة\",\"ثلاثون\",\"ثلاثين\",\"ثم\",\"ثمان\",\"ثمانمئة\",\"ثمانون\",\"ثماني\",\"ثمانية\",\"ثمانين\",\"ثمنمئة\",\"ثمَّ\",\"ثمّ\",\"ثمّة\",\"ج\",\"جانفي\",\"جدا\",\"جعل\",\"جلل\",\"جمعة\",\"جميع\",\"جنيه\",\"جوان\",\"جويلية\",\"جير\",\"جيم\",\"ح\",\"حاء\",\"حادي\",\"حار\",\"حاشا\",\"حاليا\",\"حاي\",\"حبذا\",\"حبيب\",\"حتى\",\"حجا\",\"حدَث\",\"حرى\",\"حزيران\",\"حسب\",\"حقا\",\"حمدا\",\"حمو\",\"حمٌ\",\"حوالى\",\"حول\",\"حيث\",\"حيثما\",\"حين\",\"حيَّ\",\"حَذارِ\",\"خ\",\"خاء\",\"خاصة\",\"خال\",\"خامس\",\"خبَّر\",\"خلا\",\"خلافا\",\"خلال\",\"خلف\",\"خمس\",\"خمسة\",\"خمسمئة\",\"خمسمائة\",\"خمسون\",\"خمسين\",\"خميس\",\"د\",\"دال\",\"درهم\",\"درى\",\"دواليك\",\"دولار\",\"دون\",\"دونك\",\"ديسمبر\",\"دينار\",\"ذ\",\"ذا\",\"ذات\",\"ذاك\",\"ذال\",\"ذانك\",\"ذانِ\",\"ذلك\",\"ذهب\",\"ذو\",\"ذيت\",\"ذينك\",\"ذَيْنِ\",\"ذِه\",\"ذِي\",\"ر\",\"رأى\",\"راء\",\"رابع\",\"راح\",\"رجع\",\"رزق\",\"رويدك\",\"ريال\",\"ريث\",\"رُبَّ\",\"ز\",\"زاي\",\"زعم\",\"زود\",\"زيارة\",\"س\",\"ساء\",\"سابع\",\"سادس\",\"سبت\",\"سبتمبر\",\"سبحان\",\"سبع\",\"سبعة\",\"سبعمئة\",\"سبعمائة\",\"سبعون\",\"سبعين\",\"ست\",\"ستة\",\"ستكون\",\"ستمئة\",\"ستمائة\",\"ستون\",\"ستين\",\"سحقا\",\"سرا\",\"سرعان\",\"سقى\",\"سمعا\",\"سنة\",\"سنتيم\",\"سنوات\",\"سوف\",\"سوى\",\"سين\",\"ش\",\"شباط\",\"شبه\",\"شتانَ\",\"شخصا\",\"شرع\",\"شمال\",\"شيكل\",\"شين\",\"شَتَّانَ\",\"ص\",\"صاد\",\"صار\",\"صباح\",\"صبر\",\"صبرا\",\"صدقا\",\"صراحة\",\"صفر\",\"صهٍ\",\"صهْ\",\"ض\",\"ضاد\",\"ضحوة\",\"ضد\",\"ضمن\",\"ط\",\"طاء\",\"طاق\",\"طالما\",\"طرا\",\"طفق\",\"طَق\",\"ظ\",\"ظاء\",\"ظل\",\"ظلّ\",\"ظنَّ\",\"ع\",\"عاد\",\"عاشر\",\"عام\",\"عاما\",\"عامة\",\"عجبا\",\"عدا\",\"عدة\",\"عدد\",\"عدم\",\"عدَّ\",\"عسى\",\"عشر\",\"عشرة\",\"عشرون\",\"عشرين\",\"عل\",\"علق\",\"علم\",\"على\",\"علي\",\"عليك\",\"عليه\",\"عليها\",\"علًّ\",\"عن\",\"عند\",\"عندما\",\"عنه\",\"عنها\",\"عوض\",\"عيانا\",\"عين\",\"عَدَسْ\",\"غ\",\"غادر\",\"غالبا\",\"غدا\",\"غداة\",\"غير\",\"غين\",\"ـ\",\"ف\",\"فإن\",\"فاء\",\"فان\",\"فانه\",\"فبراير\",\"فرادى\",\"فضلا\",\"فقد\",\"فقط\",\"فكان\",\"فلان\",\"فلس\",\"فهو\",\"فو\",\"فوق\",\"فى\",\"في\",\"فيفري\",\"فيه\",\"فيها\",\"ق\",\"قاطبة\",\"قاف\",\"قال\",\"قام\",\"قبل\",\"قد\",\"قرش\",\"قطّ\",\"قلما\",\"قوة\",\"ك\",\"كأن\",\"كأنّ\",\"كأيّ\",\"كأيّن\",\"كاد\",\"كاف\",\"كان\",\"كانت\",\"كانون\",\"كثيرا\",\"كذا\",\"كذلك\",\"كرب\",\"كسا\",\"كل\",\"كلتا\",\"كلم\",\"كلَّا\",\"كلّما\",\"كم\",\"كما\",\"كن\",\"كى\",\"كيت\",\"كيف\",\"كيفما\",\"كِخ\",\"ل\",\"لأن\",\"لا\",\"لا سيما\",\"لات\",\"لازال\",\"لاسيما\",\"لام\",\"لايزال\",\"لبيك\",\"لدن\",\"لدى\",\"لدي\",\"لذلك\",\"لعل\",\"لعلَّ\",\"لعمر\",\"لقاء\",\"لكن\",\"لكنه\",\"لكنَّ\",\"للامم\",\"لم\",\"لما\",\"لمّا\",\"لن\",\"له\",\"لها\",\"لهذا\",\"لهم\",\"لو\",\"لوكالة\",\"لولا\",\"لوما\",\"ليت\",\"ليرة\",\"ليس\",\"ليسب\",\"م\",\"مئة\",\"مئتان\",\"ما\",\"ما أفعله\",\"ما انفك\",\"ما برح\",\"مائة\",\"ماانفك\",\"مابرح\",\"مادام\",\"ماذا\",\"مارس\",\"مازال\",\"مافتئ\",\"ماي\",\"مايزال\",\"مايو\",\"متى\",\"مثل\",\"مذ\",\"مرّة\",\"مساء\",\"مع\",\"معاذ\",\"معه\",\"مقابل\",\"مكانكم\",\"مكانكما\",\"مكانكنّ\",\"مكانَك\",\"مليار\",\"مليم\",\"مليون\",\"مما\",\"من\",\"منذ\",\"منه\",\"منها\",\"مه\",\"مهما\",\"ميم\",\"ن\",\"نا\",\"نبَّا\",\"نحن\",\"نحو\",\"نعم\",\"نفس\",\"نفسه\",\"نهاية\",\"نوفمبر\",\"نون\",\"نيسان\",\"نيف\",\"نَخْ\",\"نَّ\",\"ه\",\"هؤلاء\",\"ها\",\"هاء\",\"هاكَ\",\"هبّ\",\"هذا\",\"هذه\",\"هل\",\"هللة\",\"هلم\",\"هلّا\",\"هم\",\"هما\",\"همزة\",\"هن\",\"هنا\",\"هناك\",\"هنالك\",\"هو\",\"هي\",\"هيا\",\"هيهات\",\"هيّا\",\"هَؤلاء\",\"هَاتانِ\",\"هَاتَيْنِ\",\"هَاتِه\",\"هَاتِي\",\"هَجْ\",\"هَذا\",\"هَذانِ\",\"هَذَيْنِ\",\"هَذِه\",\"هَذِي\",\"هَيْهات\",\"و\",\"و6\",\"وأبو\",\"وأن\",\"وا\",\"واحد\",\"واضاف\",\"واضافت\",\"واكد\",\"والتي\",\"والذي\",\"وان\",\"واهاً\",\"واو\",\"واوضح\",\"وبين\",\"وثي\",\"وجد\",\"وراءَك\",\"ورد\",\"وعلى\",\"وفي\",\"وقال\",\"وقالت\",\"وقد\",\"وقف\",\"وكان\",\"وكانت\",\"ولا\",\"ولايزال\",\"ولكن\",\"ولم\",\"وله\",\"وليس\",\"ومع\",\"ومن\",\"وهب\",\"وهذا\",\"وهو\",\"وهي\",\"وَيْ\",\"وُشْكَانَ\",\"ى\",\"ي\",\"ياء\",\"يفعلان\",\"يفعلون\",\"يكون\",\"يلي\",\"يمكن\",\"يمين\",\"ين\",\"يناير\",\"يوان\",\"يورو\",\"يوليو\",\"يوم\",\"يونيو\",\"أيّان\"]\n",
    "tfidf = TfidfVectorizer(sublinear_tf=True, min_df=5, norm='l2', encoding='latin-1', ngram_range=(1, 2),analyzer = 'word', stop_words=spw)\n",
    "\n",
    "\n",
    "features = tfidf.fit_transform(df.text).toarray()\n",
    "labels = df.category_id  "
   ]
  },
  {
   "cell_type": "code",
   "execution_count": 15,
   "metadata": {},
   "outputs": [
    {
     "data": {
      "text/plain": [
       "(3920, 36916)"
      ]
     },
     "execution_count": 15,
     "metadata": {},
     "output_type": "execute_result"
    }
   ],
   "source": [
    "features.shape"
   ]
  },
  {
   "cell_type": "code",
   "execution_count": 16,
   "metadata": {},
   "outputs": [
    {
     "name": "stdout",
     "output_type": "stream",
     "text": [
      "# 'art-et-culture':\n",
      "  . Most correlated unigrams:\n",
      "       . الفنية\n",
      "       . الفيلم\n",
      "       . الفنان\n",
      "  . Most correlated bigrams:\n",
      "       . الفنان المغربي\n",
      "       . وزارة الثقافة\n",
      "       . الثقافة والاتصال\n",
      "# 'economie':\n",
      "  . Most correlated unigrams:\n",
      "       . بنسبة\n",
      "       . الشركات\n",
      "       . المائة\n",
      "  . Most correlated bigrams:\n",
      "       . يوسف لخضر\n",
      "       . هسبريس يوسف\n",
      "       . محمد لديب\n",
      "# 'politique':\n",
      "  . Most correlated unigrams:\n",
      "       . لحزب\n",
      "       . الحزب\n",
      "       . حزب\n",
      "  . Most correlated bigrams:\n",
      "       . رئيس الحكومة\n",
      "       . العدالة والتنمية\n",
      "       . الأمين العام\n",
      "# 'sport':\n",
      "  . Most correlated unigrams:\n",
      "       . اللاعب\n",
      "       . لكرة\n",
      "       . القدم\n",
      "  . Most correlated bigrams:\n",
      "       . الدولي المغربي\n",
      "       . أوعنا بلعيد\n",
      "       . لكرة القدم\n"
     ]
    }
   ],
   "source": [
    "# Use chi-square analysis to find corelation between features (importantce of words) and labels(news category) \n",
    "from sklearn.feature_selection import chi2\n",
    "import numpy as np\n",
    "\n",
    "N = 3  # We are going to look for top 3 categories\n",
    "\n",
    "for category, category_id in sorted(category_to_id.items()):\n",
    "    features_chi2 = chi2(features, labels == category_id)                   # Do chi2 analyses of all items in this category\n",
    "    indices = np.argsort(features_chi2[0])                                  # Sorts the indices of features_chi2[0] - the chi-squared stats of each feature\n",
    "    feature_names = np.array(tfidf.get_feature_names())[indices]            # Converts indices to feature names ( in increasing order of chi-squared stat values)\n",
    "    unigrams = [v for v in feature_names if len(v.split(' ')) == 1]         # List of single word features ( in increasing order of chi-squared stat values)\n",
    "    bigrams = [v for v in feature_names if len(v.split(' ')) == 2]          # List for two-word features ( in increasing order of chi-squared stat values)\n",
    "    print(\"# '{}':\".format(category))\n",
    "    print(\"  . Most correlated unigrams:\\n       . {}\".format('\\n       . '.join(unigrams[-N:]))) # Print 3 unigrams with highest Chi squared stat\n",
    "    print(\"  . Most correlated bigrams:\\n       . {}\".format('\\n       . '.join(bigrams[-N:]))) # Print 3 bigrams with highest Chi squared stat"
   ]
  },
  {
   "cell_type": "code",
   "execution_count": 17,
   "metadata": {},
   "outputs": [
    {
     "data": {
      "text/plain": [
       "(array([0.01520992, 0.59719628, 0.00494834, ..., 2.96280931, 2.84372527,\n",
       "        3.73302023]),\n",
       " array([0.90184696, 0.43964978, 0.9439195 , ..., 0.08519979, 0.09173132,\n",
       "        0.05334685]))"
      ]
     },
     "execution_count": 17,
     "metadata": {},
     "output_type": "execute_result"
    }
   ],
   "source": [
    "features_chi2"
   ]
  },
  {
   "cell_type": "markdown",
   "metadata": {},
   "source": [
    "<h2>Use t-SNE : A Dimensionality reduction technique to visualize ( in 2 diemnsions), a high dimensional space</h2>"
   ]
  },
  {
   "cell_type": "code",
   "execution_count": 18,
   "metadata": {},
   "outputs": [],
   "source": [
    "from sklearn.manifold import TSNE\n",
    "\n",
    "# Sampling a subset of our dataset because t-SNE is computationally expensive\n",
    "SAMPLE_SIZE = int(len(features) * 0.3)\n",
    "np.random.seed(0)\n",
    "indices = np.random.choice(range(len(features)), size=SAMPLE_SIZE, replace=False)          # Randomly select 30 % of samples\n",
    "projected_features = TSNE(n_components=2, random_state=0).fit_transform(features[indices]) # Array of all projected features of 30% of Randomly chosen samples "
   ]
  },
  {
   "cell_type": "code",
   "execution_count": 19,
   "metadata": {},
   "outputs": [
    {
     "data": {
      "text/plain": [
       "<matplotlib.legend.Legend at 0x7ff1892480b8>"
      ]
     },
     "execution_count": 19,
     "metadata": {},
     "output_type": "execute_result"
    },
    {
     "data": {
      "image/png": "[encoded data removed]",
      "text/plain": [
       "<Figure size 432x288 with 1 Axes>"
      ]
     },
     "metadata": {
      "needs_background": "light"
     },
     "output_type": "display_data"
    }
   ],
   "source": [
    "from matplotlib import pyplot as plt\n",
    "colors = ['pink', 'green', 'midnightblue', 'orange', 'darkgrey']\n",
    "\n",
    "# Find points belonging to each category and plot them\n",
    "for category, category_id in sorted(category_to_id.items()):\n",
    "    points = projected_features[(labels[indices] == category_id).values]\n",
    "    plt.scatter(points[:, 0], points[:, 1], s=30, c=colors[category_id], label=category)\n",
    "plt.title(\"tf-idf feature vector for each article, projected on 2 dimensions.\",\n",
    "          fontdict=dict(fontsize=15))\n",
    "plt.legend()"
   ]
  },
  {
   "cell_type": "markdown",
   "metadata": {},
   "source": [
    "<h2>Model Training and Evaluation</h2>"
   ]
  },
  {
   "cell_type": "code",
   "execution_count": 20,
   "metadata": {},
   "outputs": [],
   "source": [
    "from sklearn.linear_model import LogisticRegression\n",
    "from sklearn.ensemble import RandomForestClassifier\n",
    "from sklearn.naive_bayes import MultinomialNB\n",
    "\n",
    "from sklearn.model_selection import cross_val_score\n",
    "\n",
    "\n",
    "models = [\n",
    "    RandomForestClassifier(n_estimators=200, max_depth=3, random_state=0),\n",
    "    MultinomialNB(),\n",
    "    LogisticRegression(random_state=0),\n",
    "]"
   ]
  },
  {
   "cell_type": "code",
   "execution_count": 21,
   "metadata": {},
   "outputs": [],
   "source": [
    "CV = 5  # Cross Validate with 5 different folds of 20% data ( 80-20 split with 5 folds )\n",
    "\n",
    "#Create a data frame that will store the results for all 5 trials of the 3 different models\n",
    "cv_df = pd.DataFrame(index=range(CV * len(models)))\n",
    "entries = [] # Initially all entries are empty"
   ]
  },
  {
   "cell_type": "code",
   "execution_count": 22,
   "metadata": {},
   "outputs": [
    {
     "name": "stderr",
     "output_type": "stream",
     "text": [
      "/home/abdessamad/PycharmProjects/ai-text-classification/venv/lib/python3.6/site-packages/sklearn/linear_model/logistic.py:433: FutureWarning: Default solver will be changed to 'lbfgs' in 0.22. Specify a solver to silence this warning.\n",
      "  FutureWarning)\n",
      "/home/abdessamad/PycharmProjects/ai-text-classification/venv/lib/python3.6/site-packages/sklearn/linear_model/logistic.py:460: FutureWarning: Default multi_class will be changed to 'auto' in 0.22. Specify the multi_class option to silence this warning.\n",
      "  \"this warning.\", FutureWarning)\n",
      "/home/abdessamad/PycharmProjects/ai-text-classification/venv/lib/python3.6/site-packages/sklearn/linear_model/logistic.py:433: FutureWarning: Default solver will be changed to 'lbfgs' in 0.22. Specify a solver to silence this warning.\n",
      "  FutureWarning)\n",
      "/home/abdessamad/PycharmProjects/ai-text-classification/venv/lib/python3.6/site-packages/sklearn/linear_model/logistic.py:460: FutureWarning: Default multi_class will be changed to 'auto' in 0.22. Specify the multi_class option to silence this warning.\n",
      "  \"this warning.\", FutureWarning)\n",
      "/home/abdessamad/PycharmProjects/ai-text-classification/venv/lib/python3.6/site-packages/sklearn/linear_model/logistic.py:433: FutureWarning: Default solver will be changed to 'lbfgs' in 0.22. Specify a solver to silence this warning.\n",
      "  FutureWarning)\n",
      "/home/abdessamad/PycharmProjects/ai-text-classification/venv/lib/python3.6/site-packages/sklearn/linear_model/logistic.py:460: FutureWarning: Default multi_class will be changed to 'auto' in 0.22. Specify the multi_class option to silence this warning.\n",
      "  \"this warning.\", FutureWarning)\n",
      "/home/abdessamad/PycharmProjects/ai-text-classification/venv/lib/python3.6/site-packages/sklearn/linear_model/logistic.py:433: FutureWarning: Default solver will be changed to 'lbfgs' in 0.22. Specify a solver to silence this warning.\n",
      "  FutureWarning)\n",
      "/home/abdessamad/PycharmProjects/ai-text-classification/venv/lib/python3.6/site-packages/sklearn/linear_model/logistic.py:460: FutureWarning: Default multi_class will be changed to 'auto' in 0.22. Specify the multi_class option to silence this warning.\n",
      "  \"this warning.\", FutureWarning)\n",
      "/home/abdessamad/PycharmProjects/ai-text-classification/venv/lib/python3.6/site-packages/sklearn/linear_model/logistic.py:433: FutureWarning: Default solver will be changed to 'lbfgs' in 0.22. Specify a solver to silence this warning.\n",
      "  FutureWarning)\n",
      "/home/abdessamad/PycharmProjects/ai-text-classification/venv/lib/python3.6/site-packages/sklearn/linear_model/logistic.py:460: FutureWarning: Default multi_class will be changed to 'auto' in 0.22. Specify the multi_class option to silence this warning.\n",
      "  \"this warning.\", FutureWarning)\n"
     ]
    }
   ],
   "source": [
    "#For each Algorithm \n",
    "for model in models:\n",
    "    model_name = model.__class__.__name__\n",
    "  # create 5 models with different 20% test sets, and store their accuracies\n",
    "    accuracies = cross_val_score(model, features, labels, scoring='accuracy', cv=CV)\n",
    "  # Append all 5 accuracies into the entries list ( after all 3 models are run, there will be 3x5 = 15 entries)\n",
    "    for fold_idx, accuracy in enumerate(accuracies):\n",
    "        entries.append((model_name, fold_idx, accuracy))"
   ]
  },
  {
   "cell_type": "code",
   "execution_count": 23,
   "metadata": {},
   "outputs": [],
   "source": [
    "# Store the entries into the results dataframe and name its columns    \n",
    "cv_df = pd.DataFrame(entries, columns=['model_name', 'fold_idx', 'accuracy'])"
   ]
  },
  {
   "cell_type": "code",
   "execution_count": 24,
   "metadata": {},
   "outputs": [
    {
     "data": {
      "text/plain": [
       "<matplotlib.axes._subplots.AxesSubplot at 0x7ff18d9f7710>"
      ]
     },
     "execution_count": 24,
     "metadata": {},
     "output_type": "execute_result"
    },
    {
     "data": {
      "image/png": "[encoded data removed]",
      "text/plain": [
       "<Figure size 432x288 with 1 Axes>"
      ]
     },
     "metadata": {
      "needs_background": "light"
     },
     "output_type": "display_data"
    }
   ],
   "source": [
    "import seaborn as sns\n",
    "\n",
    "sns.boxplot(x='model_name', y='accuracy', data=cv_df)\n",
    "sns.stripplot(x='model_name', y='accuracy', data=cv_df, \n",
    "              size=8, jitter=True, edgecolor=\"gray\", linewidth=2)"
   ]
  },
  {
   "cell_type": "code",
   "execution_count": 25,
   "metadata": {},
   "outputs": [
    {
     "data": {
      "text/plain": [
       "model_name\n",
       "LogisticRegression        0.958418\n",
       "MultinomialNB             0.954592\n",
       "RandomForestClassifier    0.914031\n",
       "Name: accuracy, dtype: float64"
      ]
     },
     "execution_count": 25,
     "metadata": {},
     "output_type": "execute_result"
    }
   ],
   "source": [
    "# Mean accuracy of each algorithm\n",
    "cv_df.groupby('model_name').accuracy.mean()"
   ]
  },
  {
   "cell_type": "code",
   "execution_count": 26,
   "metadata": {},
   "outputs": [
    {
     "data": {
      "text/html": [
       "<div>\n",
       "<style scoped>\n",
       "    .dataframe tbody tr th:only-of-type {\n",
       "        vertical-align: middle;\n",
       "    }\n",
       "\n",
       "    .dataframe tbody tr th {\n",
       "        vertical-align: top;\n",
       "    }\n",
       "\n",
       "    .dataframe thead th {\n",
       "        text-align: right;\n",
       "    }\n",
       "</style>\n",
       "<table border=\"1\" class=\"dataframe\">\n",
       "  <thead>\n",
       "    <tr style=\"text-align: right;\">\n",
       "      <th></th>\n",
       "      <th>model_name</th>\n",
       "      <th>fold_idx</th>\n",
       "      <th>accuracy</th>\n",
       "    </tr>\n",
       "  </thead>\n",
       "  <tbody>\n",
       "    <tr>\n",
       "      <th>0</th>\n",
       "      <td>RandomForestClassifier</td>\n",
       "      <td>0</td>\n",
       "      <td>0.928571</td>\n",
       "    </tr>\n",
       "    <tr>\n",
       "      <th>1</th>\n",
       "      <td>RandomForestClassifier</td>\n",
       "      <td>1</td>\n",
       "      <td>0.920918</td>\n",
       "    </tr>\n",
       "    <tr>\n",
       "      <th>2</th>\n",
       "      <td>RandomForestClassifier</td>\n",
       "      <td>2</td>\n",
       "      <td>0.903061</td>\n",
       "    </tr>\n",
       "    <tr>\n",
       "      <th>3</th>\n",
       "      <td>RandomForestClassifier</td>\n",
       "      <td>3</td>\n",
       "      <td>0.904337</td>\n",
       "    </tr>\n",
       "    <tr>\n",
       "      <th>4</th>\n",
       "      <td>RandomForestClassifier</td>\n",
       "      <td>4</td>\n",
       "      <td>0.913265</td>\n",
       "    </tr>\n",
       "    <tr>\n",
       "      <th>5</th>\n",
       "      <td>MultinomialNB</td>\n",
       "      <td>0</td>\n",
       "      <td>0.965561</td>\n",
       "    </tr>\n",
       "    <tr>\n",
       "      <th>6</th>\n",
       "      <td>MultinomialNB</td>\n",
       "      <td>1</td>\n",
       "      <td>0.955357</td>\n",
       "    </tr>\n",
       "    <tr>\n",
       "      <th>7</th>\n",
       "      <td>MultinomialNB</td>\n",
       "      <td>2</td>\n",
       "      <td>0.942602</td>\n",
       "    </tr>\n",
       "    <tr>\n",
       "      <th>8</th>\n",
       "      <td>MultinomialNB</td>\n",
       "      <td>3</td>\n",
       "      <td>0.955357</td>\n",
       "    </tr>\n",
       "    <tr>\n",
       "      <th>9</th>\n",
       "      <td>MultinomialNB</td>\n",
       "      <td>4</td>\n",
       "      <td>0.954082</td>\n",
       "    </tr>\n",
       "    <tr>\n",
       "      <th>10</th>\n",
       "      <td>LogisticRegression</td>\n",
       "      <td>0</td>\n",
       "      <td>0.961735</td>\n",
       "    </tr>\n",
       "    <tr>\n",
       "      <th>11</th>\n",
       "      <td>LogisticRegression</td>\n",
       "      <td>1</td>\n",
       "      <td>0.954082</td>\n",
       "    </tr>\n",
       "    <tr>\n",
       "      <th>12</th>\n",
       "      <td>LogisticRegression</td>\n",
       "      <td>2</td>\n",
       "      <td>0.943878</td>\n",
       "    </tr>\n",
       "    <tr>\n",
       "      <th>13</th>\n",
       "      <td>LogisticRegression</td>\n",
       "      <td>3</td>\n",
       "      <td>0.970663</td>\n",
       "    </tr>\n",
       "    <tr>\n",
       "      <th>14</th>\n",
       "      <td>LogisticRegression</td>\n",
       "      <td>4</td>\n",
       "      <td>0.961735</td>\n",
       "    </tr>\n",
       "  </tbody>\n",
       "</table>\n",
       "</div>"
      ],
      "text/plain": [
       "                model_name  fold_idx  accuracy\n",
       "0   RandomForestClassifier         0  0.928571\n",
       "1   RandomForestClassifier         1  0.920918\n",
       "2   RandomForestClassifier         2  0.903061\n",
       "3   RandomForestClassifier         3  0.904337\n",
       "4   RandomForestClassifier         4  0.913265\n",
       "5            MultinomialNB         0  0.965561\n",
       "6            MultinomialNB         1  0.955357\n",
       "7            MultinomialNB         2  0.942602\n",
       "8            MultinomialNB         3  0.955357\n",
       "9            MultinomialNB         4  0.954082\n",
       "10      LogisticRegression         0  0.961735\n",
       "11      LogisticRegression         1  0.954082\n",
       "12      LogisticRegression         2  0.943878\n",
       "13      LogisticRegression         3  0.970663\n",
       "14      LogisticRegression         4  0.961735"
      ]
     },
     "execution_count": 26,
     "metadata": {},
     "output_type": "execute_result"
    }
   ],
   "source": [
    "cv_df"
   ]
  },
  {
   "cell_type": "code",
   "execution_count": 33,
   "metadata": {},
   "outputs": [],
   "source": [
    "from sklearn.model_selection import train_test_split\n",
    "\n",
    "model = MultinomialNB()\n",
    "\n",
    "#Split Data \n",
    "X_train, X_test, y_train, y_test, indices_train, indices_test = train_test_split(features, labels, df.index, test_size=0.33, random_state=0)\n",
    "\n",
    "#Train Algorithm\n",
    "model.fit(X_train, y_train)\n",
    "\n",
    "# Make Predictions\n",
    "y_pred_proba = model.predict_proba(X_test)\n",
    "y_pred = model.predict(X_test)"
   ]
  },
  {
   "cell_type": "code",
   "execution_count": 35,
   "metadata": {},
   "outputs": [
    {
     "data": {
      "text/plain": [
       "Text(0.5, 15.0, 'Predicted')"
      ]
     },
     "execution_count": 35,
     "metadata": {},
     "output_type": "execute_result"
    },
    {
     "data": {
      "image/png": "[encoded data removed]",
      "text/plain": [
       "<Figure size 432x288 with 2 Axes>"
      ]
     },
     "metadata": {
      "needs_background": "light"
     },
     "output_type": "display_data"
    }
   ],
   "source": [
    "from sklearn.metrics import confusion_matrix\n",
    "import seaborn as sns\n",
    "\n",
    "conf_mat = confusion_matrix(y_test, y_pred)\n",
    "sns.heatmap(conf_mat, annot=True, fmt='d',\n",
    "            xticklabels=category_id_df.category.values, yticklabels=category_id_df.category.values)\n",
    "plt.ylabel('Actual')\n",
    "plt.xlabel('Predicted')"
   ]
  },
  {
   "cell_type": "code",
   "execution_count": 36,
   "metadata": {},
   "outputs": [
    {
     "name": "stdout",
     "output_type": "stream",
     "text": [
      "\"ضع ساعات فقط مرت على اغتيال اللواء قاسم سليماني قائد فيلق القدس التابع للحرس الثوري الإيراني فجر اليوم الجمعة في العراق، ليعلن المرشد الأعلى للثورة الإيرانية علي خامنئي تعيين العميد إسماعيل قآني خلفا له.  وفي بيان نُشر على موقعه الرسمي على الإنترنت، قال خامنئي أحيل منصب قيادة قوة القدس في حرس الثورة الإسلامية إلى القائد العميد إسماعيل قآني، ووصف البيان القائد الجديد بأنه كان من أبرز قادة الحرس الثوري خلال الحرب العراقية الإيرانية في ثمانينيات القرن الماضي.  شغل قآني منصب نائب قائد فيلق القدس، لنحو عقدين من الزمان، بعدما تدرج في عدة مناصب داخل الحرس الثوري، أبرزها قيادة العمليات في أفغانستان وباكستان.  وينظر إلى إسماعيل قآني على أنه ظِل سليماني الأكثر تشددا، حيث سلطت الأضواء دائما على سليماني الذي كان حاضرا بقوة في ملفات وأزمات عدة في المنطقة، أبرزها سوريا، والعراق التي قُتل بها فجر اليوم عقب وصوله بلحظات.  يُعرف عن قآني -المولود في مشهد (مركز محافظة خراسان) عام 1958- تأييده للتدخل الإيراني في دول المنطقة، ولا سيما العراق، وسوريا التي اعتبر أن الحرب فيها وجودية ومصيرية، فضلا عن أنه شارك فيها بصفة مستشار عسكري.  وتصفه وسائل إعلام إيرانية بأنه الرجل الصلب الذي لا يختلف كثيرا عن سليماني، وله الخبرة الكافية في التعامل مع جبهات القتال المختلفة، كما يُعرف عنه بأنه من المنظرين لمفهوم التشكيلات الشعبية.\"\n",
      "  - Predicted as: 'politique'\n",
      "\n",
      "\"يطارد النجم البرتغالي كريستيانو رونالدو أحلاما يسعى لتحقيقها في عام 2020، ليعوض بعض الإخفاقات التي تعرض لها العام الماضي، وأبرزها خسارته كل الألقاب الفردية على مستوى الاتحاد الدولي لكرة القدم (فيفا) والاتحاد الأوروبي للعبة (يويفا).  وأهم أحلام رونالدو قيادة يوفنتوس للتتويج بلقب دوري أبطال أوروبا الذي أخرجه منه الموسم الماضي فريق أياكس أمستردام الهولندي، كما سيعمل على استمرار احتكار فريقه للدوري الإيطالي في ظل المنافسة الشديدة من إنتر ميلان له هذا الموسم.  ويحلم رونالدو (34 عاما) أيضا بقيادة منتخب بلاده للفوز بلقب كأس الأمم الأوروبية للمرة الثانية على التوالي، خاصة وأن مشاركته قد تكون الأخيرة له في البطولة.  ويسعى الدون أيضا للتسجيل قدر الإمكان في البطولة ليصبح الهداف التاريخي للمنطقة اليورو منفردا، حيث يتشارك حاليا مع النجم الفرنسي السابق ميشيل بلاتيني لقب هداف البطولة بـ9 أهداف لكل منهما.  وإذا نجح رونالدو في تحقيق البطولتين فسيحسم كل الألقاب الفردية هذا العام وأبرزها الكرة الذهبية، التي فاز بها 5 مرات وتفوق عليه ميسي برصيد 6 مرات بعد تتويجه بها العام الماضي، وحتى إن فاز ببطولة واحدة منهما فسيكون اسمه مدرجا بشكل أكثر قوة من عام 2019.  كما يحلم رونالدو بأن يقبض قبل اعتزاله على لقب أفضل هداف بالمباريات الدولية في التاريخ والذي يتربع عليه حاليا المهاجم الإيراني علي دائي برصيد 109 أهداف سجلها مع منتخب بلاده، على بعد 10 أهداف فقط من النجم البرتغالي المخضرم.\"\n",
      "  - Predicted as: 'sport'\n",
      "\n",
      "\"أربك مقتل قائد فيلق القدس الإيراني قاسم سليماني بضربة جوية أميركية اليوم في بغداد أسواق المال والنفط العالمية، فما الذي حدث؟  أسواق النفط قفزت أسعار النفط العالمية لتقترب من سبعين دولارا للبرميل في تعاملات اليوم الجمعة في أعقاب الغارة التي نفذتها القوات الأميركية واستهدفت قاسم سليماني قرب مطار بغداد.  وارتفع سعر التعاقدات الآجلة لخام برنت، وهو الخام القياسي للنفط في الأسواق العالمية، بأكثر من 4% خلال تعاملات اليوم، ليقفز إلى أعلى مستوى في أكثر من ثلاثة أشهر، في ظل المخاوف من تداعيات مقتل سليماني على استقرار إمدادات النفط في منطقة الخليج بشكل خاص.  وارتفع سعر خام برنت اليوم بنحو 2.91 دولار أي بنسبة 4.4% إلى 69.16 دولارا قبل أن يتراجع قليلا.  وكانت آخر مرة كسرت فيها عقود برنت حاجز 69 دولارا، منتصف سبتمبر/أيلول الماضي، تزامنا مع هجمات على منشأتين نفطيتين تتبعان أرامكو في السعودية.  كما ارتفع سعر خام غرب تكساس الوسيط، وهو الخام القياسي للنفط الأميركي، بنسبة 3.9% إلى 63.57 دولارا للبرميل، تسليم فبراير/شباط المقبل، بعد أن ارتفع بنسبة 4.4% في بداية تعاملات اليوم ليصل إلى أعلى مستوى له منذ مايو/أيار الماضي.\"\n",
      "  - Predicted as: 'economie'\n",
      "\n"
     ]
    }
   ],
   "source": [
    "texts = [\"ضع ساعات فقط مرت على اغتيال اللواء قاسم سليماني قائد فيلق القدس التابع للحرس الثوري الإيراني فجر اليوم الجمعة في العراق، ليعلن المرشد الأعلى للثورة الإيرانية علي خامنئي تعيين العميد إسماعيل قآني خلفا له.  وفي بيان نُشر على موقعه الرسمي على الإنترنت، قال خامنئي أحيل منصب قيادة قوة القدس في حرس الثورة الإسلامية إلى القائد العميد إسماعيل قآني، ووصف البيان القائد الجديد بأنه كان من أبرز قادة الحرس الثوري خلال الحرب العراقية الإيرانية في ثمانينيات القرن الماضي.  شغل قآني منصب نائب قائد فيلق القدس، لنحو عقدين من الزمان، بعدما تدرج في عدة مناصب داخل الحرس الثوري، أبرزها قيادة العمليات في أفغانستان وباكستان.  وينظر إلى إسماعيل قآني على أنه ظِل سليماني الأكثر تشددا، حيث سلطت الأضواء دائما على سليماني الذي كان حاضرا بقوة في ملفات وأزمات عدة في المنطقة، أبرزها سوريا، والعراق التي قُتل بها فجر اليوم عقب وصوله بلحظات.  يُعرف عن قآني -المولود في مشهد (مركز محافظة خراسان) عام 1958- تأييده للتدخل الإيراني في دول المنطقة، ولا سيما العراق، وسوريا التي اعتبر أن الحرب فيها وجودية ومصيرية، فضلا عن أنه شارك فيها بصفة مستشار عسكري.  وتصفه وسائل إعلام إيرانية بأنه الرجل الصلب الذي لا يختلف كثيرا عن سليماني، وله الخبرة الكافية في التعامل مع جبهات القتال المختلفة، كما يُعرف عنه بأنه من المنظرين لمفهوم التشكيلات الشعبية.\",\n",
    "         \"يطارد النجم البرتغالي كريستيانو رونالدو أحلاما يسعى لتحقيقها في عام 2020، ليعوض بعض الإخفاقات التي تعرض لها العام الماضي، وأبرزها خسارته كل الألقاب الفردية على مستوى الاتحاد الدولي لكرة القدم (فيفا) والاتحاد الأوروبي للعبة (يويفا).  وأهم أحلام رونالدو قيادة يوفنتوس للتتويج بلقب دوري أبطال أوروبا الذي أخرجه منه الموسم الماضي فريق أياكس أمستردام الهولندي، كما سيعمل على استمرار احتكار فريقه للدوري الإيطالي في ظل المنافسة الشديدة من إنتر ميلان له هذا الموسم.  ويحلم رونالدو (34 عاما) أيضا بقيادة منتخب بلاده للفوز بلقب كأس الأمم الأوروبية للمرة الثانية على التوالي، خاصة وأن مشاركته قد تكون الأخيرة له في البطولة.  ويسعى الدون أيضا للتسجيل قدر الإمكان في البطولة ليصبح الهداف التاريخي للمنطقة اليورو منفردا، حيث يتشارك حاليا مع النجم الفرنسي السابق ميشيل بلاتيني لقب هداف البطولة بـ9 أهداف لكل منهما.  وإذا نجح رونالدو في تحقيق البطولتين فسيحسم كل الألقاب الفردية هذا العام وأبرزها الكرة الذهبية، التي فاز بها 5 مرات وتفوق عليه ميسي برصيد 6 مرات بعد تتويجه بها العام الماضي، وحتى إن فاز ببطولة واحدة منهما فسيكون اسمه مدرجا بشكل أكثر قوة من عام 2019.  كما يحلم رونالدو بأن يقبض قبل اعتزاله على لقب أفضل هداف بالمباريات الدولية في التاريخ والذي يتربع عليه حاليا المهاجم الإيراني علي دائي برصيد 109 أهداف سجلها مع منتخب بلاده، على بعد 10 أهداف فقط من النجم البرتغالي المخضرم.\",\n",
    "         \"أربك مقتل قائد فيلق القدس الإيراني قاسم سليماني بضربة جوية أميركية اليوم في بغداد أسواق المال والنفط العالمية، فما الذي حدث؟  أسواق النفط قفزت أسعار النفط العالمية لتقترب من سبعين دولارا للبرميل في تعاملات اليوم الجمعة في أعقاب الغارة التي نفذتها القوات الأميركية واستهدفت قاسم سليماني قرب مطار بغداد.  وارتفع سعر التعاقدات الآجلة لخام برنت، وهو الخام القياسي للنفط في الأسواق العالمية، بأكثر من 4% خلال تعاملات اليوم، ليقفز إلى أعلى مستوى في أكثر من ثلاثة أشهر، في ظل المخاوف من تداعيات مقتل سليماني على استقرار إمدادات النفط في منطقة الخليج بشكل خاص.  وارتفع سعر خام برنت اليوم بنحو 2.91 دولار أي بنسبة 4.4% إلى 69.16 دولارا قبل أن يتراجع قليلا.  وكانت آخر مرة كسرت فيها عقود برنت حاجز 69 دولارا، منتصف سبتمبر/أيلول الماضي، تزامنا مع هجمات على منشأتين نفطيتين تتبعان أرامكو في السعودية.  كما ارتفع سعر خام غرب تكساس الوسيط، وهو الخام القياسي للنفط الأميركي، بنسبة 3.9% إلى 63.57 دولارا للبرميل، تسليم فبراير/شباط المقبل، بعد أن ارتفع بنسبة 4.4% في بداية تعاملات اليوم ليصل إلى أعلى مستوى له منذ مايو/أيار الماضي.\"\n",
    "        \n",
    "        \n",
    "        ]\n",
    "text_features = tfidf.transform(texts)\n",
    "predictions = model.predict(text_features)\n",
    "for text, predicted in zip(texts, predictions):\n",
    "    print('\"{}\"'.format(text))\n",
    "    print(\"  - Predicted as: '{}'\".format(id_to_category[predicted]))\n",
    "    print(\"\")"
   ]
  },
  {
   "cell_type": "markdown",
   "metadata": {},
   "source": [
    "<h2>Save the Model </h2>"
   ]
  },
  {
   "cell_type": "code",
   "execution_count": 30,
   "metadata": {},
   "outputs": [],
   "source": [
    "import pickle\n",
    "pkl_filename = \"pickle_model_arabic.pkl\"\n",
    "with open(pkl_filename, 'wb') as file:\n",
    "    pickle.dump(model, file)\n"
   ]
  },
  {
   "cell_type": "code",
   "execution_count": 31,
   "metadata": {},
   "outputs": [],
   "source": [
    "pkl_filename2 = \"pickle_tfidf_arabic.pkl\"\n",
    "with open(pkl_filename, 'wb') as file:\n",
    "    pickle.dump(tfidf, file)\n"
   ]
  },
  {
   "cell_type": "markdown",
   "metadata": {},
   "source": [
    "<h2>load the model </h2>"
   ]
  },
  {
   "cell_type": "code",
   "execution_count": 49,
   "metadata": {},
   "outputs": [],
   "source": [
    "with open(pkl_filename, 'rb') as file:\n",
    "    pickle_model = pickle.load(file)"
   ]
  },
  {
   "cell_type": "code",
   "execution_count": 51,
   "metadata": {},
   "outputs": [
    {
     "name": "stdout",
     "output_type": "stream",
     "text": [
      "\"The DNA computer uses a process known as hybridisation, which occurs when two strands of DNA attach together to form double-stranded DNA.\"\n",
      "  - Predicted as: 'tech'\n",
      "\n",
      "\"Captain Tsubasa scores a magnificent goal for the Japanese team.\"\n",
      "  - Predicted as: 'sport'\n",
      "\n",
      "\"Merryweather mercenaries are sent on another mission, as government oversight groups call for new sanctions.\"\n",
      "  - Predicted as: 'politics'\n",
      "\n",
      "\"Beyoncé releases a new album, tops the charts in all of south-east Asia!\"\n",
      "  - Predicted as: 'entertainment'\n",
      "\n",
      "\"You won't guess what the latest trend in data analysis is!\"\n",
      "  - Predicted as: 'tech'\n",
      "\n",
      "\"Carlos Ghosn, the multi-millionaire former boss of Nissan, spent months preparing to stand trial on financial misconduct charges. At least, that was what the Japanese authorities were led to believe.He posted 1bn yen (£6.8m; $8.9m) in bail in April. He was monitored by a 24-hour camera installed outside his house. His use of technology was heavily restricted and he was banned from travelling abroad.\"\n",
      "  - Predicted as: 'business'\n",
      "\n",
      "\"Officials of the Italian football team Napoli are close to settling the contract with Moroccan international Sofiane Amrabet, who plays this season in the Hellas Verona shirt on loan from the Belgian club Bruges.Calcio Mercato, the Italian website, in addition to journalist Nicolo Chira, said that on Friday the third of January this year, Sofyan Amrabat is expected to formalize his transfer to the Italian team, with a sum of 15 million euros and a contract that extends to four football seasons.For her part, the Belgian daily, Heath Newblad, said that the average Lions Square will play with a Napoli shirt starting next summer, adding that the salary of Amrabat will rise to 1.8 million euros in the season, while he will wear the 12th shirt with his new club.\"\n",
      "  - Predicted as: 'sport'\n",
      "\n"
     ]
    }
   ],
   "source": [
    "texts = [\"The DNA computer uses a process known as hybridisation, which occurs when two strands of DNA attach together to form double-stranded DNA.\",\n",
    "         \"Captain Tsubasa scores a magnificent goal for the Japanese team.\",\n",
    "         \"Merryweather mercenaries are sent on another mission, as government oversight groups call for new sanctions.\",\n",
    "         \"Beyoncé releases a new album, tops the charts in all of south-east Asia!\",\n",
    "         \"You won't guess what the latest trend in data analysis is!\",\n",
    "         \"Carlos Ghosn, the multi-millionaire former boss of Nissan, spent months preparing to stand trial on financial misconduct charges. At least, that was what the Japanese authorities were led to believe.He posted 1bn yen (£6.8m; $8.9m) in bail in April. He was monitored by a 24-hour camera installed outside his house. His use of technology was heavily restricted and he was banned from travelling abroad.\",\n",
    "        \"Officials of the Italian football team Napoli are close to settling the contract with Moroccan international Sofiane Amrabet, who plays this season in the Hellas Verona shirt on loan from the Belgian club Bruges.Calcio Mercato, the Italian website, in addition to journalist Nicolo Chira, said that on Friday the third of January this year, Sofyan Amrabat is expected to formalize his transfer to the Italian team, with a sum of 15 million euros and a contract that extends to four football seasons.For her part, the Belgian daily, Heath Newblad, said that the average Lions Square will play with a Napoli shirt starting next summer, adding that the salary of Amrabat will rise to 1.8 million euros in the season, while he will wear the 12th shirt with his new club.\"]\n",
    "text_features = tfidf.transform(texts)\n",
    "predictions = pickle_model.predict(text_features)\n",
    "for text, predicted in zip(texts, predictions):\n",
    "    print('\"{}\"'.format(text))\n",
    "    print(\"  - Predicted as: '{}'\".format(id_to_category[predicted]))\n",
    "    print(\"\")"
   ]
  },
  {
   "cell_type": "code",
   "execution_count": null,
   "metadata": {},
   "outputs": [],
   "source": []
  }
 ],
 "metadata": {
  "kernelspec": {
   "display_name": "Python 3",
   "language": "python",
   "name": "python3"
  },
  "language_info": {
   "codemirror_mode": {
    "name": "ipython",
    "version": 3
   },
   "file_extension": ".py",
   "mimetype": "text/x-python",
   "name": "python",
   "nbconvert_exporter": "python",
   "pygments_lexer": "ipython3",
   "version": "3.7.0"
  }
 },
 "nbformat": 4,
 "nbformat_minor": 4
}
